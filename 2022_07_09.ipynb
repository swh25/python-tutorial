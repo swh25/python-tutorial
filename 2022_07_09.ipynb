{
  "nbformat": 4,
  "nbformat_minor": 0,
  "metadata": {
    "colab": {
      "name": "2022-07-09.ipynb",
      "provenance": [],
      "collapsed_sections": [],
      "authorship_tag": "ABX9TyPCxeoZXwRCmQ9nzBGJsOyV",
      "include_colab_link": true
    },
    "kernelspec": {
      "name": "python3",
      "display_name": "Python 3"
    },
    "language_info": {
      "name": "python"
    }
  },
  "cells": [
    {
      "cell_type": "markdown",
      "metadata": {
        "id": "view-in-github",
        "colab_type": "text"
      },
      "source": [
        "<a href=\"https://colab.research.google.com/github/swh25/python-tutorial/blob/main/2022_07_09.ipynb\" target=\"_parent\"><img src=\"https://colab.research.google.com/assets/colab-badge.svg\" alt=\"Open In Colab\"/></a>"
      ]
    },
    {
      "cell_type": "markdown",
      "source": [
        "# 2022-07-09"
      ],
      "metadata": {
        "id": "sl7sZNJIgOx8"
      }
    },
    {
      "cell_type": "markdown",
      "source": [
        "## the concept for the beginner\n",
        "* data type\n",
        "  * int => 整數\n",
        "  * float => 浮點數\n",
        "  * bool => 布林數 true and false\n",
        "  * str => 字串\n",
        "* contaner type\n",
        "  * list => 串列 []\n",
        "  * tuple => 元組 ()\n",
        "  * dis => 字典 {}\n",
        "  * set => 集合 {}\n",
        "* Basic language\n",
        "  * loops => 迴圈\n",
        "  * functions => 函式\n",
        "  * if statement => 條件式\n",
        "  * exception handling => 例外處理"
      ],
      "metadata": {
        "id": "gb1VlhMigWp4"
      }
    },
    {
      "cell_type": "markdown",
      "source": [
        "# Loops: for, while"
      ],
      "metadata": {
        "id": "vZ3NBrBYmYEj"
      }
    },
    {
      "cell_type": "markdown",
      "source": [
        "## for loops\n",
        "backtick\n",
        "```python\n",
        "for 變數 in 資料結構\n",
        "  程式區塊\n",
        "```\n",
        "縮排很重要，區分階層"
      ],
      "metadata": {
        "id": "HxZ89Fu1mfgb"
      }
    },
    {
      "cell_type": "code",
      "source": [
        "for i in range (3):\n",
        "  print (\"程式區塊開始\")\n",
        "  print (i)\n",
        "  print (\"程式區塊結束\")"
      ],
      "metadata": {
        "colab": {
          "base_uri": "https://localhost:8080/"
        },
        "id": "8TOSJmCpm-fc",
        "outputId": "84a0a389-5320-48de-db4d-2b6af8fe295d"
      },
      "execution_count": 2,
      "outputs": [
        {
          "output_type": "stream",
          "name": "stdout",
          "text": [
            "程式區塊開始\n",
            "0\n",
            "程式區塊結束\n",
            "程式區塊開始\n",
            "1\n",
            "程式區塊結束\n",
            "程式區塊開始\n",
            "2\n",
            "程式區塊結束\n"
          ]
        }
      ]
    },
    {
      "cell_type": "code",
      "source": [
        "for i in range (3):\n",
        "  print (\"程式區塊開始\")\n",
        "  print (i)\n",
        "print (\"程式區塊結束\")"
      ],
      "metadata": {
        "colab": {
          "base_uri": "https://localhost:8080/"
        },
        "id": "VP7UvZi5nThD",
        "outputId": "40c3c6f2-f52f-4ebe-9d8e-d7ed6372eba6"
      },
      "execution_count": 3,
      "outputs": [
        {
          "output_type": "stream",
          "name": "stdout",
          "text": [
            "程式區塊開始\n",
            "0\n",
            "程式區塊開始\n",
            "1\n",
            "程式區塊開始\n",
            "2\n",
            "程式區塊結束\n"
          ]
        }
      ]
    },
    {
      "cell_type": "markdown",
      "source": [
        ""
      ],
      "metadata": {
        "id": "jIeUpMMOoRvh"
      }
    },
    {
      "cell_type": "markdown",
      "source": [
        "## While loops\n",
        "backtick\n",
        "```python\n",
        "while 條件式\n",
        "  程式區塊\n",
        "```\n",
        "縮排很重要，區分階層!!!"
      ],
      "metadata": {
        "id": "Y4Mi1C8PoT2P"
      }
    },
    {
      "cell_type": "code",
      "source": [
        "x = 0\n",
        "while x<10:\n",
        "  print (x)\n",
        "  x = x+1\n"
      ],
      "metadata": {
        "colab": {
          "base_uri": "https://localhost:8080/"
        },
        "id": "BBZ8EQ8sodSl",
        "outputId": "051edfca-ef4a-418e-acfe-90694f4ffb2c"
      },
      "execution_count": 5,
      "outputs": [
        {
          "output_type": "stream",
          "name": "stdout",
          "text": [
            "0\n",
            "1\n",
            "2\n",
            "3\n",
            "4\n",
            "5\n",
            "6\n",
            "7\n",
            "8\n",
            "9\n"
          ]
        }
      ]
    },
    {
      "cell_type": "markdown",
      "source": [
        "##寫一個99乘法表\n",
        "用for loop or while loop"
      ],
      "metadata": {
        "id": "qq28IVT7pfEz"
      }
    },
    {
      "cell_type": "code",
      "source": [
        "for i in range (2,10):\n",
        "  for j in range (2,10):\n",
        "    print(i,\"x\",j,\"=\",i*j)"
      ],
      "metadata": {
        "id": "EfYyqTcQppN6"
      },
      "execution_count": null,
      "outputs": []
    },
    {
      "cell_type": "code",
      "source": [
        "i=1\n",
        "while i <10:\n",
        "  j=1\n",
        "  while j <10:\n",
        "    print(i,\"x\",j,\"=\",i*j)\n",
        "    j=j+1\n",
        "  i=i+1    \n",
        "# debug時可以單獨先看每一個loop的print(i)去了解數字是增加/停止到哪裡\n"
      ],
      "metadata": {
        "id": "VvzjzQYKree5"
      },
      "execution_count": null,
      "outputs": []
    },
    {
      "cell_type": "markdown",
      "source": [
        "#條件式 (if statement)\n",
        "\n",
        "基本語法\n",
        "使用條件式來決定程式區塊是否被執行\n",
        "語法一\n",
        "```Python\n",
        "if 條件式:\n",
        "  程式區塊\n",
        "```\n",
        "\n",
        "語法二\n",
        "基本語法\n",
        "使用條件式來決定執行程式區塊一或是二\n",
        "```Python\n",
        "if 條件式:\n",
        "  程式區塊1\n",
        "else:\n",
        "  程式區塊2\n",
        "```\n",
        "\n",
        "語法二\n",
        "基本語法\n",
        "使用條件式來決定執行程式區塊一或是二或是三\n",
        "```Python\n",
        "if 條件式1:\n",
        "  程式區塊1\n",
        "elif 條件式2:\n",
        "  程式區塊2\n",
        "else:\n",
        "  程式區塊3\n",
        "```"
      ],
      "metadata": {
        "id": "_rcEijf4uVH2"
      }
    },
    {
      "cell_type": "code",
      "source": [
        "a=2\n",
        "b=2\n",
        "if a>b:\n",
        "  print('a>b')\n",
        "elif a<b:\n",
        "  print('a<b')\n",
        "else:\n",
        "  print('a=b')"
      ],
      "metadata": {
        "colab": {
          "base_uri": "https://localhost:8080/"
        },
        "id": "tkxHH6s_wAAP",
        "outputId": "6ac1423a-6bc6-4c44-d792-9d9f1561fbd5"
      },
      "execution_count": 64,
      "outputs": [
        {
          "output_type": "stream",
          "name": "stdout",
          "text": [
            "a=b\n"
          ]
        }
      ]
    },
    {
      "cell_type": "markdown",
      "source": [
        "##請計算BMI並判斷體位\n",
        "\n",
        "$$ BMI=weight/hegiht^2 $$\n",
        "$$ BMI = \\frac{weight}{height^2}$$\n",
        "\n",
        "|條件|體位|\n",
        "|:-:|:-:|\n",
        "bmi<18|過輕\n",
        "bmi>24|過重\n",
        "18<bmi<24|健康\n"
      ],
      "metadata": {
        "id": "zefkV24qyIeC"
      }
    },
    {
      "cell_type": "code",
      "source": [
        "bmi=w/(h**2)\n",
        "if bmi<18:\n",
        "  print('過輕')\n",
        "elif bmi>24:\n",
        "  print('過重')\n",
        "else:\n",
        "  print('健康')"
      ],
      "metadata": {
        "colab": {
          "base_uri": "https://localhost:8080/"
        },
        "id": "6cEiGPjwyGcM",
        "outputId": "70c8cdbc-62f3-4e49-ab11-7d18267f92e6"
      },
      "execution_count": 83,
      "outputs": [
        {
          "output_type": "stream",
          "name": "stdout",
          "text": [
            "健康\n"
          ]
        }
      ]
    },
    {
      "cell_type": "code",
      "source": [
        "def health1(w,h):\n",
        "  bmi=w/(h**2)\n",
        "  if bmi<18:\n",
        "    print('過輕')\n",
        "  elif bmi>24:\n",
        "    print('過重')\n",
        "  else:\n",
        "    print('健康')\n",
        "    #print只是單純列出在自己的電腦，return則是回傳數字,可以傳到其他地方(e.g.Web)"
      ],
      "metadata": {
        "id": "oKCp4oRp2vIP"
      },
      "execution_count": 91,
      "outputs": []
    },
    {
      "cell_type": "code",
      "source": [
        "def health2(w,h):\n",
        "  bmi=w/(h**2)\n",
        "  if bmi<18:\n",
        "    return '過輕'\n",
        "  elif bmi>24:\n",
        "    return '過重'\n",
        "  else:\n",
        "    return '健康'"
      ],
      "metadata": {
        "id": "A98oIY0g4d9Z"
      },
      "execution_count": 92,
      "outputs": []
    },
    {
      "cell_type": "code",
      "source": [
        "w=80\n",
        "h=1.8"
      ],
      "metadata": {
        "id": "mnxZKrQm5eDr"
      },
      "execution_count": 97,
      "outputs": []
    },
    {
      "cell_type": "code",
      "source": [
        "print(x)"
      ],
      "metadata": {
        "colab": {
          "base_uri": "https://localhost:8080/"
        },
        "id": "E0DuBJ9z5DDF",
        "outputId": "83818d25-dc93-4098-826a-32e66a75664c"
      },
      "execution_count": 98,
      "outputs": [
        {
          "output_type": "stream",
          "name": "stdout",
          "text": [
            "None\n"
          ]
        }
      ]
    },
    {
      "cell_type": "code",
      "source": [
        "print(y)"
      ],
      "metadata": {
        "colab": {
          "base_uri": "https://localhost:8080/"
        },
        "id": "GFSnGtro5FxA",
        "outputId": "7e7e4348-0e53-45eb-9d6d-29f9ddf3e634"
      },
      "execution_count": 99,
      "outputs": [
        {
          "output_type": "stream",
          "name": "stdout",
          "text": [
            "健康\n"
          ]
        }
      ]
    },
    {
      "cell_type": "code",
      "source": [
        "#input資料為\"str\"\n",
        "w=input(\"請輸入體重(KG):\")\n",
        "h=input(\"請輸入身高(m):\")\n",
        "\n",
        "#將字串轉成float number\n",
        "health2(float(w),float(h))"
      ],
      "metadata": {
        "colab": {
          "base_uri": "https://localhost:8080/",
          "height": 70
        },
        "id": "DkfDER2c7mHf",
        "outputId": "dcc7ccc6-e0f9-426e-c8b7-e5df4b13b768"
      },
      "execution_count": 109,
      "outputs": [
        {
          "name": "stdout",
          "output_type": "stream",
          "text": [
            "請輸入體重(KG):50\n",
            "請輸入身高(m):1.3\n"
          ]
        },
        {
          "output_type": "execute_result",
          "data": {
            "text/plain": [
              "'過重'"
            ],
            "application/vnd.google.colaboratory.intrinsic+json": {
              "type": "string"
            }
          },
          "metadata": {},
          "execution_count": 109
        }
      ]
    },
    {
      "cell_type": "markdown",
      "source": [
        "# Gradio introduction"
      ],
      "metadata": {
        "id": "OsyCkTo8_ttX"
      }
    },
    {
      "cell_type": "code",
      "source": [
        "!pip install gradio"
      ],
      "metadata": {
        "id": "4qItyd9o_w59"
      },
      "execution_count": null,
      "outputs": []
    },
    {
      "cell_type": "code",
      "source": [
        "def greet(name):\n",
        "    return \"Hello \" + name + \"!!\"\n",
        "greet(\"test\")"
      ],
      "metadata": {
        "colab": {
          "base_uri": "https://localhost:8080/",
          "height": 35
        },
        "id": "jRdhNG1BAYTN",
        "outputId": "db7a4391-5969-4e21-d523-22b6eb3c7f17"
      },
      "execution_count": 119,
      "outputs": [
        {
          "output_type": "execute_result",
          "data": {
            "text/plain": [
              "'Hello test!!'"
            ],
            "application/vnd.google.colaboratory.intrinsic+json": {
              "type": "string"
            }
          },
          "metadata": {},
          "execution_count": 119
        }
      ]
    },
    {
      "cell_type": "code",
      "source": [
        "import gradio"
      ],
      "metadata": {
        "id": "Jib-qsnZBFHi"
      },
      "execution_count": 120,
      "outputs": []
    },
    {
      "cell_type": "code",
      "source": [
        "gradio.Interface(greet, \"text\", \"text\").launch(share=True)"
      ],
      "metadata": {
        "id": "XeAfUI5hBJ4k"
      },
      "execution_count": null,
      "outputs": []
    },
    {
      "cell_type": "code",
      "source": [
        "def health2(w,h):\n",
        "  bmi=float(w)/(float(h)**2)\n",
        "  if bmi<18:\n",
        "    return '過輕'\n",
        "  elif bmi>24:\n",
        "    return '過重'\n",
        "  else:\n",
        "    return '健康'"
      ],
      "metadata": {
        "id": "Ef44tUL5CyaS"
      },
      "execution_count": 123,
      "outputs": []
    },
    {
      "cell_type": "code",
      "source": [
        "gradio.Interface(health2,[\"text\",\"text\"],\"text\",title= \"判斷體位狀況\").launch(share=True)\n",
        "#執行函數, input的資料有幾個by list,return的資訊, title為app名稱"
      ],
      "metadata": {
        "id": "Ol1t10PVCP6p"
      },
      "execution_count": null,
      "outputs": []
    },
    {
      "cell_type": "code",
      "source": [
        "def health3(w,h):\n",
        "  bmi=w/(h**2)\n",
        "  if bmi<18:\n",
        "    return bmi,'過輕'\n",
        "  elif bmi>24:\n",
        "    return bmi,'過重'\n",
        "  else:\n",
        "    return bmi,'健康'"
      ],
      "metadata": {
        "id": "OZIj6cWRGY64"
      },
      "execution_count": 143,
      "outputs": []
    },
    {
      "cell_type": "code",
      "source": [
        "health3(80,1.8)"
      ],
      "metadata": {
        "colab": {
          "base_uri": "https://localhost:8080/"
        },
        "id": "7NTG_7PYG0lw",
        "outputId": "3b94fc7c-1382-4e63-d47e-35a57db8237d"
      },
      "execution_count": 144,
      "outputs": [
        {
          "output_type": "execute_result",
          "data": {
            "text/plain": [
              "(24.691358024691358, '過重')"
            ]
          },
          "metadata": {},
          "execution_count": 144
        }
      ]
    },
    {
      "cell_type": "code",
      "source": [
        "gradio.Interface(health3,[\"text\",\"text\"],[\"text\",\"text\"],title= \"判斷體位狀況\").launch(share=True)"
      ],
      "metadata": {
        "id": "UJlImqXgGj4h"
      },
      "execution_count": null,
      "outputs": []
    },
    {
      "cell_type": "markdown",
      "source": [
        "#爬蟲簡介\n"
      ],
      "metadata": {
        "id": "kZ-sWx5ofItZ"
      }
    },
    {
      "cell_type": "code",
      "source": [
        "import requests\n",
        "\n",
        "url = \"https://victorgau.github.io/khpy_web_intro/html_only.html\"\n"
      ],
      "metadata": {
        "id": "90bSN6CLfhxK"
      },
      "execution_count": 148,
      "outputs": []
    },
    {
      "cell_type": "code",
      "source": [
        "r=requests.get(url)"
      ],
      "metadata": {
        "id": "pXz-WAWZf3mX"
      },
      "execution_count": 150,
      "outputs": []
    },
    {
      "cell_type": "code",
      "source": [
        "print(r.text)"
      ],
      "metadata": {
        "id": "gDxCcZANgGqH"
      },
      "execution_count": null,
      "outputs": []
    },
    {
      "cell_type": "code",
      "source": [
        "type(r)"
      ],
      "metadata": {
        "colab": {
          "base_uri": "https://localhost:8080/"
        },
        "id": "jgct9I4UgctR",
        "outputId": "116fa49c-9b0b-4312-c514-9319ead80bf5"
      },
      "execution_count": 152,
      "outputs": [
        {
          "output_type": "execute_result",
          "data": {
            "text/plain": [
              "requests.models.Response"
            ]
          },
          "metadata": {},
          "execution_count": 152
        }
      ]
    },
    {
      "cell_type": "code",
      "source": [
        "r.request.headers"
      ],
      "metadata": {
        "colab": {
          "base_uri": "https://localhost:8080/"
        },
        "id": "BOlpF6NuhWjf",
        "outputId": "b17ccdab-0928-4e78-df9b-5110e3f47d50"
      },
      "execution_count": 153,
      "outputs": [
        {
          "output_type": "execute_result",
          "data": {
            "text/plain": [
              "{'User-Agent': 'python-requests/2.23.0', 'Accept-Encoding': 'gzip, deflate', 'Accept': '*/*', 'Connection': 'keep-alive'}"
            ]
          },
          "metadata": {},
          "execution_count": 153
        }
      ]
    },
    {
      "cell_type": "code",
      "source": [
        "f = open(\"index.html\",\"w\")\n",
        "f.write(r.text)\n",
        "f.close()"
      ],
      "metadata": {
        "id": "WKt1F1TkhiPR"
      },
      "execution_count": 155,
      "outputs": []
    },
    {
      "cell_type": "markdown",
      "source": [
        "##json v.s. dict/list diff\n",
        "javascrip object notation=> str\n",
        "jacon to dict need to convert"
      ],
      "metadata": {
        "id": "JLBPY0V6lwj9"
      }
    },
    {
      "cell_type": "code",
      "source": [
        "d={}\n",
        "d['cat']='kitten'\n",
        "d['dog']='puppy'"
      ],
      "metadata": {
        "id": "oo5tKFfqlrJJ"
      },
      "execution_count": 157,
      "outputs": []
    },
    {
      "cell_type": "code",
      "source": [
        "d"
      ],
      "metadata": {
        "colab": {
          "base_uri": "https://localhost:8080/"
        },
        "id": "LNcFF7ZZmHhX",
        "outputId": "44a06e08-6352-43a5-cbb9-d9aab77dfc22"
      },
      "execution_count": 158,
      "outputs": [
        {
          "output_type": "execute_result",
          "data": {
            "text/plain": [
              "{'cat': 'kitten', 'dog': 'puppy'}"
            ]
          },
          "metadata": {},
          "execution_count": 158
        }
      ]
    },
    {
      "cell_type": "code",
      "source": [
        "type(d)"
      ],
      "metadata": {
        "colab": {
          "base_uri": "https://localhost:8080/"
        },
        "id": "AeNENS2jmK6J",
        "outputId": "8b74ce29-a7c0-470d-8a7b-a3b502e00968"
      },
      "execution_count": 159,
      "outputs": [
        {
          "output_type": "execute_result",
          "data": {
            "text/plain": [
              "dict"
            ]
          },
          "metadata": {},
          "execution_count": 159
        }
      ]
    },
    {
      "cell_type": "code",
      "source": [
        "e='{\"cat\": \"kitten\", \"dog\": \"puppy\"}'"
      ],
      "metadata": {
        "id": "2YKS45k1mTdj"
      },
      "execution_count": 164,
      "outputs": []
    },
    {
      "cell_type": "code",
      "source": [
        "type(e)"
      ],
      "metadata": {
        "colab": {
          "base_uri": "https://localhost:8080/"
        },
        "id": "FxhM21oamYgm",
        "outputId": "ab23ebca-0d29-4e2d-b27e-68e756da4a61"
      },
      "execution_count": 165,
      "outputs": [
        {
          "output_type": "execute_result",
          "data": {
            "text/plain": [
              "str"
            ]
          },
          "metadata": {},
          "execution_count": 165
        }
      ]
    },
    {
      "cell_type": "code",
      "source": [
        "import json"
      ],
      "metadata": {
        "id": "Rxhp6mWnm4B_"
      },
      "execution_count": 162,
      "outputs": []
    },
    {
      "cell_type": "code",
      "source": [
        "f=json.loads(e)"
      ],
      "metadata": {
        "id": "xRzznNDPnDDI"
      },
      "execution_count": 166,
      "outputs": []
    },
    {
      "cell_type": "code",
      "source": [
        "type (f)"
      ],
      "metadata": {
        "colab": {
          "base_uri": "https://localhost:8080/"
        },
        "id": "miFiFfbinmnu",
        "outputId": "d71fcb57-f973-42a0-dd87-0140953785a4"
      },
      "execution_count": 168,
      "outputs": [
        {
          "output_type": "execute_result",
          "data": {
            "text/plain": [
              "dict"
            ]
          },
          "metadata": {},
          "execution_count": 168
        }
      ]
    },
    {
      "cell_type": "code",
      "source": [
        "f"
      ],
      "metadata": {
        "colab": {
          "base_uri": "https://localhost:8080/"
        },
        "id": "y6v439CYnqth",
        "outputId": "935500a4-7f40-45d1-c9d5-6cad1f4b6814"
      },
      "execution_count": 169,
      "outputs": [
        {
          "output_type": "execute_result",
          "data": {
            "text/plain": [
              "{'cat': 'kitten', 'dog': 'puppy'}"
            ]
          },
          "metadata": {},
          "execution_count": 169
        }
      ]
    },
    {
      "cell_type": "markdown",
      "source": [
        "#使用萌點API"
      ],
      "metadata": {
        "id": "sLlbUNe4oXIg"
      }
    },
    {
      "cell_type": "code",
      "source": [
        "url=\"https://www.moedict.tw/uni/\""
      ],
      "metadata": {
        "id": "M4fpKTJ3oUwi"
      },
      "execution_count": 170,
      "outputs": []
    },
    {
      "cell_type": "code",
      "source": [
        "q=\"教室\""
      ],
      "metadata": {
        "id": "xO-aDrRPoraz"
      },
      "execution_count": 172,
      "outputs": []
    },
    {
      "cell_type": "code",
      "source": [
        "url+q"
      ],
      "metadata": {
        "colab": {
          "base_uri": "https://localhost:8080/",
          "height": 35
        },
        "id": "PXV5Us0Jo0HI",
        "outputId": "03178f0a-457f-4536-e58e-f73e505cb703"
      },
      "execution_count": 173,
      "outputs": [
        {
          "output_type": "execute_result",
          "data": {
            "text/plain": [
              "'https://www.moedict.tw/uni/教室'"
            ],
            "application/vnd.google.colaboratory.intrinsic+json": {
              "type": "string"
            }
          },
          "metadata": {},
          "execution_count": 173
        }
      ]
    },
    {
      "cell_type": "code",
      "source": [
        "r=requests.get(url+q)"
      ],
      "metadata": {
        "id": "9o9GabN8o4wQ"
      },
      "execution_count": 175,
      "outputs": []
    },
    {
      "cell_type": "code",
      "source": [
        "print(r.text)\n",
        "#此為JSON格式"
      ],
      "metadata": {
        "colab": {
          "base_uri": "https://localhost:8080/"
        },
        "id": "jflMfeUDpID5",
        "outputId": "71a9b41e-8134-403d-c447-ea415966d79d"
      },
      "execution_count": 176,
      "outputs": [
        {
          "output_type": "stream",
          "name": "stdout",
          "text": [
            "\t{\n",
            "\t\t\"heteronyms\": [\n",
            "\t\t\t{\n",
            "\t\t\t\t\"bopomofo\": \"ㄐㄧㄠˋ ㄕˋ\",\n",
            "\t\t\t\t\"bopomofo2\": \"jiàu shr̀\",\n",
            "\t\t\t\t\"definitions\": [\n",
            "\t\t\t\t\t{\n",
            "\t\t\t\t\t\t\"def\": \"學校裡進行教學活動的房間。\",\n",
            "\t\t\t\t\t\t\"example\": [\n",
            "\t\t\t\t\t\t\t\"如：「實驗教室」、「音樂教室」。\"\n",
            "\t\t\t\t\t\t],\n",
            "\t\t\t\t\t\t\"synonyms\": \"課堂,講堂\"\n",
            "\t\t\t\t\t}\n",
            "\t\t\t\t],\n",
            "\t\t\t\t\"pinyin\": \"jiào shì\"\n",
            "\t\t\t}\n",
            "\t\t],\n",
            "\t\t\"title\": \"教室\"\n",
            "\t}\n"
          ]
        }
      ]
    },
    {
      "cell_type": "code",
      "source": [
        "import json"
      ],
      "metadata": {
        "id": "UmaD15-7piXp"
      },
      "execution_count": 177,
      "outputs": []
    },
    {
      "cell_type": "code",
      "source": [
        "data=json.loads(r.text)"
      ],
      "metadata": {
        "id": "ryvWX4fcplck"
      },
      "execution_count": 178,
      "outputs": []
    },
    {
      "cell_type": "code",
      "source": [
        "type(data)"
      ],
      "metadata": {
        "colab": {
          "base_uri": "https://localhost:8080/"
        },
        "id": "_k0-Q0E9ptww",
        "outputId": "7b1b926c-3a5c-4e8a-8441-d4032834e0ae"
      },
      "execution_count": 180,
      "outputs": [
        {
          "output_type": "execute_result",
          "data": {
            "text/plain": [
              "dict"
            ]
          },
          "metadata": {},
          "execution_count": 180
        }
      ]
    },
    {
      "cell_type": "code",
      "source": [
        "data"
      ],
      "metadata": {
        "colab": {
          "base_uri": "https://localhost:8080/"
        },
        "id": "56QTBAmsp8GC",
        "outputId": "a9026419-5180-4bf6-95da-f345f630f297"
      },
      "execution_count": 181,
      "outputs": [
        {
          "output_type": "execute_result",
          "data": {
            "text/plain": [
              "{'heteronyms': [{'bopomofo': 'ㄐㄧㄠˋ ㄕˋ',\n",
              "   'bopomofo2': 'jiàu shr̀',\n",
              "   'definitions': [{'def': '學校裡進行教學活動的房間。',\n",
              "     'example': ['如：「實驗教室」、「音樂教室」。'],\n",
              "     'synonyms': '課堂,講堂'}],\n",
              "   'pinyin': 'jiào shì'}],\n",
              " 'title': '教室'}"
            ]
          },
          "metadata": {},
          "execution_count": 181
        }
      ]
    },
    {
      "cell_type": "code",
      "source": [
        "data['heteronyms'][0]['definitions'][0]['def']"
      ],
      "metadata": {
        "colab": {
          "base_uri": "https://localhost:8080/",
          "height": 35
        },
        "id": "d38mkh4uqDEo",
        "outputId": "2f37cf71-8d7a-4f4e-9b58-f9f869fe41c5"
      },
      "execution_count": 188,
      "outputs": [
        {
          "output_type": "execute_result",
          "data": {
            "text/plain": [
              "'學校裡進行教學活動的房間。'"
            ],
            "application/vnd.google.colaboratory.intrinsic+json": {
              "type": "string"
            }
          },
          "metadata": {},
          "execution_count": 188
        }
      ]
    },
    {
      "cell_type": "code",
      "source": [
        "data=requests.get(url+\"測試\").json()\n",
        "#json轉Dict"
      ],
      "metadata": {
        "id": "CtO3gJ82rhfI"
      },
      "execution_count": 190,
      "outputs": []
    },
    {
      "cell_type": "code",
      "source": [
        "data['heteronyms'][0]['definitions'][0]['def']"
      ],
      "metadata": {
        "colab": {
          "base_uri": "https://localhost:8080/",
          "height": 35
        },
        "id": "Ucw1FNBzrv9V",
        "outputId": "31dd5493-8486-4c15-d748-953323651565"
      },
      "execution_count": 191,
      "outputs": [
        {
          "output_type": "execute_result",
          "data": {
            "text/plain": [
              "'對機械、儀器等的性能和安全進行測量。'"
            ],
            "application/vnd.google.colaboratory.intrinsic+json": {
              "type": "string"
            }
          },
          "metadata": {},
          "execution_count": 191
        }
      ]
    },
    {
      "cell_type": "code",
      "source": [
        "data"
      ],
      "metadata": {
        "colab": {
          "base_uri": "https://localhost:8080/"
        },
        "id": "b8wg7B1vsOPk",
        "outputId": "71c17911-2942-43a6-aa4d-7b2eca979563"
      },
      "execution_count": 192,
      "outputs": [
        {
          "output_type": "execute_result",
          "data": {
            "text/plain": [
              "{'heteronyms': [{'bopomofo': 'ㄘㄜˋ ㄕˋ',\n",
              "   'bopomofo2': 'tsè shr̀',\n",
              "   'definitions': [{'def': '對機械、儀器等的性能和安全進行測量。', 'example': ['如：「電腦測試」。']}],\n",
              "   'pinyin': 'cè shì'}],\n",
              " 'title': '測試'}"
            ]
          },
          "metadata": {},
          "execution_count": 192
        }
      ]
    },
    {
      "cell_type": "code",
      "source": [
        "def lookup(word):\n",
        "  data = requests.get(url+word).json()\n",
        "  return data['heteronyms'][0]['definitions'][0]['def']"
      ],
      "metadata": {
        "id": "coA8ndJ9tqGv"
      },
      "execution_count": 217,
      "outputs": []
    },
    {
      "cell_type": "code",
      "source": [
        "lookup=(\"海\")"
      ],
      "metadata": {
        "id": "dh5aptg-trlD"
      },
      "execution_count": 218,
      "outputs": []
    },
    {
      "cell_type": "code",
      "source": [
        "gradio.Interface(lookup, \"text\", \"text\", title=\"國語辭典\").launch(share=True)"
      ],
      "metadata": {
        "id": "dmmb9WNyuPUT"
      },
      "execution_count": null,
      "outputs": []
    },
    {
      "cell_type": "markdown",
      "source": [
        "#Homework: 寫一個漢英字典\n",
        "網址為 https://www.moedict.tw/a/xxxx.json"
      ],
      "metadata": {
        "id": "qHdOJSoiwP9C"
      }
    },
    {
      "cell_type": "code",
      "source": [
        "url=\"https://www.moedict.tw/a/\""
      ],
      "metadata": {
        "id": "WUzY9qacwbmf"
      },
      "execution_count": 220,
      "outputs": []
    },
    {
      "cell_type": "code",
      "source": [
        ""
      ],
      "metadata": {
        "id": "1IVhsDsJxeQQ"
      },
      "execution_count": null,
      "outputs": []
    },
    {
      "cell_type": "code",
      "source": [
        "q=\"教室\""
      ],
      "metadata": {
        "id": "1qbQjzxdwwiV"
      },
      "execution_count": 221,
      "outputs": []
    },
    {
      "cell_type": "code",
      "source": [
        "data=requests.get(url+q+\".json\").json()"
      ],
      "metadata": {
        "id": "BqTDNwl0w460"
      },
      "execution_count": 224,
      "outputs": []
    },
    {
      "cell_type": "code",
      "source": [
        "data"
      ],
      "metadata": {
        "colab": {
          "base_uri": "https://localhost:8080/"
        },
        "id": "Zmyz4_n3xN9r",
        "outputId": "245598de-7eb7-45cb-94fd-5c7cb87d5029"
      },
      "execution_count": 225,
      "outputs": [
        {
          "output_type": "execute_result",
          "data": {
            "text/plain": [
              "{'Deutsch': 'Klassenzimmer  (S)',\n",
              " 'English': 'classroom',\n",
              " 'francais': 'salle de classe',\n",
              " 'h': [{'=': '322500022',\n",
              "   'b': 'ㄐㄧㄠˋ\\u3000ㄕˋ',\n",
              "   'd': [{'e': ['`如~：「`實驗~`教室~」、「`音樂~`教室~」。'],\n",
              "     'f': '`學校~`裡~`進行~`教學~`活動~`的~`房間~。',\n",
              "     's': '`課堂~'}],\n",
              "   'p': 'jiào shì'}],\n",
              " 't': '`教~`室~',\n",
              " 'translation': {'Deutsch': ['Klassenzimmer  (S)'],\n",
              "  'English': ['classroom', 'CL:`間~|间[jian1]'],\n",
              "  'francais': ['salle de classe']}}"
            ]
          },
          "metadata": {},
          "execution_count": 225
        }
      ]
    },
    {
      "cell_type": "code",
      "source": [
        "data['translation']['English'][0]\n"
      ],
      "metadata": {
        "colab": {
          "base_uri": "https://localhost:8080/",
          "height": 35
        },
        "id": "jkRyoWXAxvcG",
        "outputId": "e79ad1e9-b3ef-4f6d-ba74-4f3dca0b9519"
      },
      "execution_count": 236,
      "outputs": [
        {
          "output_type": "execute_result",
          "data": {
            "text/plain": [
              "'classroom'"
            ],
            "application/vnd.google.colaboratory.intrinsic+json": {
              "type": "string"
            }
          },
          "metadata": {},
          "execution_count": 236
        }
      ]
    },
    {
      "cell_type": "code",
      "source": [
        "type(data)"
      ],
      "metadata": {
        "colab": {
          "base_uri": "https://localhost:8080/"
        },
        "id": "b5tLlGcf0Ij-",
        "outputId": "00a4a3ce-f1ac-437b-883c-6a190a5fe3f8"
      },
      "execution_count": 237,
      "outputs": [
        {
          "output_type": "execute_result",
          "data": {
            "text/plain": [
              "dict"
            ]
          },
          "metadata": {},
          "execution_count": 237
        }
      ]
    },
    {
      "cell_type": "code",
      "source": [
        "data['translation']['English'][1]"
      ],
      "metadata": {
        "colab": {
          "base_uri": "https://localhost:8080/",
          "height": 35
        },
        "id": "6PD7fsPH0LzM",
        "outputId": "4cbcf223-59d1-4760-c2bf-b4397b76c4b9"
      },
      "execution_count": 240,
      "outputs": [
        {
          "output_type": "execute_result",
          "data": {
            "text/plain": [
              "'CL:`間~|间[jian1]'"
            ],
            "application/vnd.google.colaboratory.intrinsic+json": {
              "type": "string"
            }
          },
          "metadata": {},
          "execution_count": 240
        }
      ]
    },
    {
      "cell_type": "markdown",
      "source": [
        "#分析台北市ubike站點"
      ],
      "metadata": {
        "id": "hXcPXL--y96a"
      }
    },
    {
      "cell_type": "markdown",
      "source": [
        "#BeautifulSoup使用"
      ],
      "metadata": {
        "id": "X92u5cVJ0gun"
      }
    },
    {
      "cell_type": "code",
      "source": [
        "page=\"\"\"<!DOCTYPE html>\n",
        "<html>\n",
        "<head>\n",
        "    <title>HTML範例</title>\n",
        "</head>\n",
        "<body>\n",
        "\n",
        "<h1>哈囉！HTML！</h1>\n",
        "\n",
        "<img src=\"ninja.jpg\" />\n",
        "\n",
        "</body>\n",
        "</html>\"\"\""
      ],
      "metadata": {
        "id": "SlRXX73y08js"
      },
      "execution_count": 241,
      "outputs": []
    },
    {
      "cell_type": "code",
      "source": [
        "from bs4 import BeautifulSoup"
      ],
      "metadata": {
        "id": "1WNVVZVY1PWo"
      },
      "execution_count": 243,
      "outputs": []
    },
    {
      "cell_type": "code",
      "source": [
        "soup=BeautifulSoup(page)"
      ],
      "metadata": {
        "id": "BMlAax5D1xG0"
      },
      "execution_count": 244,
      "outputs": []
    },
    {
      "cell_type": "code",
      "source": [
        "soup.title"
      ],
      "metadata": {
        "colab": {
          "base_uri": "https://localhost:8080/"
        },
        "id": "rPHC5m5L12b7",
        "outputId": "670d3748-4756-4f34-b347-ddc75d7cc5d4"
      },
      "execution_count": 245,
      "outputs": [
        {
          "output_type": "execute_result",
          "data": {
            "text/plain": [
              "<title>HTML範例</title>"
            ]
          },
          "metadata": {},
          "execution_count": 245
        }
      ]
    },
    {
      "cell_type": "code",
      "source": [
        "soup.title.text"
      ],
      "metadata": {
        "colab": {
          "base_uri": "https://localhost:8080/",
          "height": 35
        },
        "id": "zcz_euUC17-A",
        "outputId": "be71ea10-8ee9-4775-a9ec-ac693861042b"
      },
      "execution_count": 246,
      "outputs": [
        {
          "output_type": "execute_result",
          "data": {
            "text/plain": [
              "'HTML範例'"
            ],
            "application/vnd.google.colaboratory.intrinsic+json": {
              "type": "string"
            }
          },
          "metadata": {},
          "execution_count": 246
        }
      ]
    },
    {
      "cell_type": "code",
      "source": [
        "soup.h1.text"
      ],
      "metadata": {
        "colab": {
          "base_uri": "https://localhost:8080/",
          "height": 35
        },
        "id": "zgtay1xP2A0x",
        "outputId": "1853d9e5-6e39-46a2-eb0f-a6c4c3ed9ea0"
      },
      "execution_count": 248,
      "outputs": [
        {
          "output_type": "execute_result",
          "data": {
            "text/plain": [
              "'哈囉！HTML！'"
            ],
            "application/vnd.google.colaboratory.intrinsic+json": {
              "type": "string"
            }
          },
          "metadata": {},
          "execution_count": 248
        }
      ]
    },
    {
      "cell_type": "markdown",
      "source": [
        "style=> CSS的一部分\n",
        "直接抓資料 => Request\n",
        "直接處理資料 => BeautifulSoup"
      ],
      "metadata": {
        "id": "ilbactMI24kz"
      }
    },
    {
      "cell_type": "markdown",
      "source": [
        "#Example 2"
      ],
      "metadata": {
        "id": "4k1koMvX3qKe"
      }
    },
    {
      "cell_type": "code",
      "source": [
        "page=\"\"\"<!DOCTYPE html>\n",
        "<html>\n",
        "<head>\n",
        "    <title>這是範例一</title>\n",
        "</head>\n",
        "<body>\n",
        "\n",
        "<h1>哈囉！HTML！</h1>\n",
        "\n",
        "<div class=\"class1\">\n",
        "    <p>這是第一個p標籤內容！</p>\n",
        "    <p>這是第二個p標籤內容！</p>\n",
        "</div>\n",
        "\n",
        "<div class=\"class2\">\n",
        "    <p>這是第三個p標籤內容！</p>\n",
        "    <p>這是第四個p標籤內容！</p>\n",
        "</div>\n",
        "</body>\n",
        "</html>\"\"\""
      ],
      "metadata": {
        "id": "cU1fXTSX3XkG"
      },
      "execution_count": 249,
      "outputs": []
    },
    {
      "cell_type": "code",
      "source": [
        "soup=BeautifulSoup(page)"
      ],
      "metadata": {
        "id": "aBAy9Hnp331-"
      },
      "execution_count": 250,
      "outputs": []
    },
    {
      "cell_type": "code",
      "source": [
        "soup.select(\"p\")"
      ],
      "metadata": {
        "colab": {
          "base_uri": "https://localhost:8080/"
        },
        "id": "iGWG9Pdm4BZT",
        "outputId": "7a69dee2-ba7b-47d8-cdfb-09e354182f49"
      },
      "execution_count": 251,
      "outputs": [
        {
          "output_type": "execute_result",
          "data": {
            "text/plain": [
              "[<p>這是第一個p標籤內容！</p>,\n",
              " <p>這是第二個p標籤內容！</p>,\n",
              " <p>這是第三個p標籤內容！</p>,\n",
              " <p>這是第四個p標籤內容！</p>]"
            ]
          },
          "metadata": {},
          "execution_count": 251
        }
      ]
    },
    {
      "cell_type": "markdown",
      "source": [
        "# try to get momo shop data"
      ],
      "metadata": {
        "id": "wqx-oBxz5zOs"
      }
    },
    {
      "cell_type": "code",
      "source": [
        "url='https://www.momoshop.com.tw/category/LgrpCategory.jsp?l_code=2999900000&mdiv=1099700000-bt_0_957_01-&ctype=B'"
      ],
      "metadata": {
        "id": "6meId7nh521t"
      },
      "execution_count": 252,
      "outputs": []
    },
    {
      "cell_type": "code",
      "source": [
        "r=requests.get(url)"
      ],
      "metadata": {
        "id": "vOK7b_9Y5778"
      },
      "execution_count": null,
      "outputs": []
    },
    {
      "cell_type": "code",
      "source": [
        "headers"
      ],
      "metadata": {
        "id": "0GSx0-bm6JSw"
      },
      "execution_count": null,
      "outputs": []
    }
  ]
}