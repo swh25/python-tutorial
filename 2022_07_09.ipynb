{
  "nbformat": 4,
  "nbformat_minor": 0,
  "metadata": {
    "colab": {
      "name": "2022-07-09.ipynb",
      "provenance": [],
      "collapsed_sections": [],
      "toc_visible": true,
      "authorship_tag": "ABX9TyO7maiPS28vDWIJcg0N46UZ",
      "include_colab_link": true
    },
    "kernelspec": {
      "name": "python3",
      "display_name": "Python 3"
    },
    "language_info": {
      "name": "python"
    }
  },
  "cells": [
    {
      "cell_type": "markdown",
      "metadata": {
        "id": "view-in-github",
        "colab_type": "text"
      },
      "source": [
        "<a href=\"https://colab.research.google.com/github/swh25/python-tutorial/blob/main/2022_07_09.ipynb\" target=\"_parent\"><img src=\"https://colab.research.google.com/assets/colab-badge.svg\" alt=\"Open In Colab\"/></a>"
      ]
    },
    {
      "cell_type": "markdown",
      "source": [
        "# 2022-07-09"
      ],
      "metadata": {
        "id": "sl7sZNJIgOx8"
      }
    },
    {
      "cell_type": "markdown",
      "source": [
        "## the concept for the beginner\n",
        "* data type\n",
        "  * int => 整數\n",
        "  * float => 浮點數\n",
        "  * bool => 布林數 true and false\n",
        "  * str => 字串\n",
        "* contaner type\n",
        "  * list => 串列 []\n",
        "  * tuple => 元組 ()\n",
        "  * dis => 字典 {}\n",
        "  * set => 集合 {}\n",
        "* Basic language\n",
        "  * loops => 迴圈\n",
        "  * functions => 函式\n",
        "  * if statement => 條件式\n",
        "  * exception handling => 例外處理"
      ],
      "metadata": {
        "id": "gb1VlhMigWp4"
      }
    },
    {
      "cell_type": "markdown",
      "source": [
        "# Loops: for, while"
      ],
      "metadata": {
        "id": "vZ3NBrBYmYEj"
      }
    },
    {
      "cell_type": "markdown",
      "source": [
        "## for loops\n",
        "backtick\n",
        "```python\n",
        "for 變數 in 資料結構\n",
        "  程式區塊\n",
        "```\n",
        "縮排很重要，區分階層"
      ],
      "metadata": {
        "id": "HxZ89Fu1mfgb"
      }
    },
    {
      "cell_type": "code",
      "source": [
        "for i in range (3):\n",
        "  print (\"程式區塊開始\")\n",
        "  print (i)\n",
        "  print (\"程式區塊結束\")"
      ],
      "metadata": {
        "colab": {
          "base_uri": "https://localhost:8080/"
        },
        "id": "8TOSJmCpm-fc",
        "outputId": "84a0a389-5320-48de-db4d-2b6af8fe295d"
      },
      "execution_count": 2,
      "outputs": [
        {
          "output_type": "stream",
          "name": "stdout",
          "text": [
            "程式區塊開始\n",
            "0\n",
            "程式區塊結束\n",
            "程式區塊開始\n",
            "1\n",
            "程式區塊結束\n",
            "程式區塊開始\n",
            "2\n",
            "程式區塊結束\n"
          ]
        }
      ]
    },
    {
      "cell_type": "code",
      "source": [
        "for i in range (3):\n",
        "  print (\"程式區塊開始\")\n",
        "  print (i)\n",
        "print (\"程式區塊結束\")"
      ],
      "metadata": {
        "colab": {
          "base_uri": "https://localhost:8080/"
        },
        "id": "VP7UvZi5nThD",
        "outputId": "40c3c6f2-f52f-4ebe-9d8e-d7ed6372eba6"
      },
      "execution_count": 3,
      "outputs": [
        {
          "output_type": "stream",
          "name": "stdout",
          "text": [
            "程式區塊開始\n",
            "0\n",
            "程式區塊開始\n",
            "1\n",
            "程式區塊開始\n",
            "2\n",
            "程式區塊結束\n"
          ]
        }
      ]
    },
    {
      "cell_type": "markdown",
      "source": [
        ""
      ],
      "metadata": {
        "id": "jIeUpMMOoRvh"
      }
    },
    {
      "cell_type": "markdown",
      "source": [
        "## While loops\n",
        "backtick\n",
        "```python\n",
        "while 條件式\n",
        "  程式區塊\n",
        "```\n",
        "縮排很重要，區分階層!!!"
      ],
      "metadata": {
        "id": "Y4Mi1C8PoT2P"
      }
    },
    {
      "cell_type": "code",
      "source": [
        "x = 0\n",
        "while x<10:\n",
        "  print (x)\n",
        "  x = x+1\n"
      ],
      "metadata": {
        "colab": {
          "base_uri": "https://localhost:8080/"
        },
        "id": "BBZ8EQ8sodSl",
        "outputId": "051edfca-ef4a-418e-acfe-90694f4ffb2c"
      },
      "execution_count": 5,
      "outputs": [
        {
          "output_type": "stream",
          "name": "stdout",
          "text": [
            "0\n",
            "1\n",
            "2\n",
            "3\n",
            "4\n",
            "5\n",
            "6\n",
            "7\n",
            "8\n",
            "9\n"
          ]
        }
      ]
    },
    {
      "cell_type": "markdown",
      "source": [
        "##寫一個99乘法表\n",
        "用for loop or while loop"
      ],
      "metadata": {
        "id": "qq28IVT7pfEz"
      }
    },
    {
      "cell_type": "code",
      "source": [
        "for i in range (2,10):\n",
        "  for j in range (2,10):\n",
        "    print(i,\"x\",j,\"=\",i*j)"
      ],
      "metadata": {
        "id": "EfYyqTcQppN6"
      },
      "execution_count": null,
      "outputs": []
    },
    {
      "cell_type": "code",
      "source": [
        "i=1\n",
        "while i <10:\n",
        "  j=1\n",
        "  while j <10:\n",
        "    print(i,\"x\",j,\"=\",i*j)\n",
        "    j=j+1\n",
        "  i=i+1    \n",
        "# debug時可以單獨先看每一個loop的print(i)去了解數字是增加/停止到哪裡\n"
      ],
      "metadata": {
        "id": "VvzjzQYKree5"
      },
      "execution_count": null,
      "outputs": []
    },
    {
      "cell_type": "markdown",
      "source": [
        "#條件式 (if statement)\n",
        "\n",
        "基本語法\n",
        "使用條件式來決定程式區塊是否被執行\n",
        "語法一\n",
        "```Python\n",
        "if 條件式:\n",
        "  程式區塊\n",
        "```\n",
        "\n",
        "語法二\n",
        "基本語法\n",
        "使用條件式來決定執行程式區塊一或是二\n",
        "```Python\n",
        "if 條件式:\n",
        "  程式區塊1\n",
        "else:\n",
        "  程式區塊2\n",
        "```\n",
        "\n",
        "語法二\n",
        "基本語法\n",
        "使用條件式來決定執行程式區塊一或是二或是三\n",
        "```Python\n",
        "if 條件式1:\n",
        "  程式區塊1\n",
        "elif 條件式2:\n",
        "  程式區塊2\n",
        "else:\n",
        "  程式區塊3\n",
        "```"
      ],
      "metadata": {
        "id": "_rcEijf4uVH2"
      }
    },
    {
      "cell_type": "code",
      "source": [
        "a=2\n",
        "b=2\n",
        "if a>b:\n",
        "  print('a>b')\n",
        "elif a<b:\n",
        "  print('a<b')\n",
        "else:\n",
        "  print('a=b')"
      ],
      "metadata": {
        "colab": {
          "base_uri": "https://localhost:8080/"
        },
        "id": "tkxHH6s_wAAP",
        "outputId": "6ac1423a-6bc6-4c44-d792-9d9f1561fbd5"
      },
      "execution_count": 64,
      "outputs": [
        {
          "output_type": "stream",
          "name": "stdout",
          "text": [
            "a=b\n"
          ]
        }
      ]
    },
    {
      "cell_type": "markdown",
      "source": [
        "##請計算BMI1並判斷體位\n",
        "\n",
        "$$ BMI=weight/hegiht^2 $$\n",
        "$$ BMI = \\frac{weight}{height^2}$$\n",
        "\n",
        "|條件|體位|\n",
        "|:-:|:-:|\n",
        "bmi<18|過輕\n",
        "bmi>24|過重\n",
        "18<bmi<24|健康\n"
      ],
      "metadata": {
        "id": "zefkV24qyIeC"
      }
    },
    {
      "cell_type": "code",
      "source": [
        "bmi=w/(h**2)\n",
        "if bmi<18:\n",
        "  print('過輕')\n",
        "elif bmi>24:\n",
        "  print('過重')\n",
        "else:\n",
        "  print('健康')"
      ],
      "metadata": {
        "colab": {
          "base_uri": "https://localhost:8080/"
        },
        "id": "6cEiGPjwyGcM",
        "outputId": "70c8cdbc-62f3-4e49-ab11-7d18267f92e6"
      },
      "execution_count": 83,
      "outputs": [
        {
          "output_type": "stream",
          "name": "stdout",
          "text": [
            "健康\n"
          ]
        }
      ]
    },
    {
      "cell_type": "code",
      "source": [
        "def health1(w,h):\n",
        "  bmi=w/(h**2)\n",
        "  if bmi<18:\n",
        "    print('過輕')\n",
        "  elif bmi>24:\n",
        "    print('過重')\n",
        "  else:\n",
        "    print('健康')\n",
        "    #print只是單純列出在自己的電腦，return則是回傳數字,可以傳到其他地方(e.g.Web)"
      ],
      "metadata": {
        "id": "oKCp4oRp2vIP"
      },
      "execution_count": 91,
      "outputs": []
    },
    {
      "cell_type": "code",
      "source": [
        "def health2(w,h):\n",
        "  bmi=w/(h**2)\n",
        "  if bmi<18:\n",
        "    return '過輕'\n",
        "  elif bmi>24:\n",
        "    return '過重'\n",
        "  else:\n",
        "    return '健康'"
      ],
      "metadata": {
        "id": "A98oIY0g4d9Z"
      },
      "execution_count": 92,
      "outputs": []
    },
    {
      "cell_type": "code",
      "source": [
        "w=80\n",
        "h=1.8"
      ],
      "metadata": {
        "id": "mnxZKrQm5eDr"
      },
      "execution_count": 97,
      "outputs": []
    },
    {
      "cell_type": "code",
      "source": [
        "print(x)"
      ],
      "metadata": {
        "colab": {
          "base_uri": "https://localhost:8080/"
        },
        "id": "E0DuBJ9z5DDF",
        "outputId": "83818d25-dc93-4098-826a-32e66a75664c"
      },
      "execution_count": 98,
      "outputs": [
        {
          "output_type": "stream",
          "name": "stdout",
          "text": [
            "None\n"
          ]
        }
      ]
    },
    {
      "cell_type": "code",
      "source": [
        "print(y)"
      ],
      "metadata": {
        "colab": {
          "base_uri": "https://localhost:8080/"
        },
        "id": "GFSnGtro5FxA",
        "outputId": "7e7e4348-0e53-45eb-9d6d-29f9ddf3e634"
      },
      "execution_count": 99,
      "outputs": [
        {
          "output_type": "stream",
          "name": "stdout",
          "text": [
            "健康\n"
          ]
        }
      ]
    },
    {
      "cell_type": "code",
      "source": [
        "#input資料為\"str\"\n",
        "w=input(\"請輸入體重(KG):\")\n",
        "h=input(\"請輸入身高(m):\")\n",
        "\n",
        "#將字串轉成float number\n",
        "health2(float(w),float(h))"
      ],
      "metadata": {
        "colab": {
          "base_uri": "https://localhost:8080/",
          "height": 70
        },
        "id": "DkfDER2c7mHf",
        "outputId": "dcc7ccc6-e0f9-426e-c8b7-e5df4b13b768"
      },
      "execution_count": 109,
      "outputs": [
        {
          "name": "stdout",
          "output_type": "stream",
          "text": [
            "請輸入體重(KG):50\n",
            "請輸入身高(m):1.3\n"
          ]
        },
        {
          "output_type": "execute_result",
          "data": {
            "text/plain": [
              "'過重'"
            ],
            "application/vnd.google.colaboratory.intrinsic+json": {
              "type": "string"
            }
          },
          "metadata": {},
          "execution_count": 109
        }
      ]
    },
    {
      "cell_type": "markdown",
      "source": [
        "# Gradio introduction"
      ],
      "metadata": {
        "id": "OsyCkTo8_ttX"
      }
    },
    {
      "cell_type": "code",
      "source": [
        "!pip install gradio"
      ],
      "metadata": {
        "id": "4qItyd9o_w59"
      },
      "execution_count": null,
      "outputs": []
    },
    {
      "cell_type": "code",
      "source": [
        "def greet(name):\n",
        "    return \"Hello \" + name + \"!!\"\n",
        "greet(\"test\")"
      ],
      "metadata": {
        "colab": {
          "base_uri": "https://localhost:8080/",
          "height": 35
        },
        "id": "jRdhNG1BAYTN",
        "outputId": "db7a4391-5969-4e21-d523-22b6eb3c7f17"
      },
      "execution_count": 119,
      "outputs": [
        {
          "output_type": "execute_result",
          "data": {
            "text/plain": [
              "'Hello test!!'"
            ],
            "application/vnd.google.colaboratory.intrinsic+json": {
              "type": "string"
            }
          },
          "metadata": {},
          "execution_count": 119
        }
      ]
    },
    {
      "cell_type": "code",
      "source": [
        "import gradio"
      ],
      "metadata": {
        "id": "Jib-qsnZBFHi"
      },
      "execution_count": 120,
      "outputs": []
    },
    {
      "cell_type": "code",
      "source": [
        "gradio.Interface(greet, \"text\", \"text\").launch(share=True)"
      ],
      "metadata": {
        "colab": {
          "base_uri": "https://localhost:8080/",
          "height": 663
        },
        "id": "XeAfUI5hBJ4k",
        "outputId": "3a623612-e87f-436b-cedc-5932888288e1"
      },
      "execution_count": 121,
      "outputs": [
        {
          "output_type": "stream",
          "name": "stdout",
          "text": [
            "Colab notebook detected. To show errors in colab notebook, set `debug=True` in `launch()`\n",
            "Running on public URL: https://22175.gradio.app\n",
            "\n",
            "This share link expires in 72 hours. For free permanent hosting, check out Spaces (https://huggingface.co/spaces)\n"
          ]
        },
        {
          "output_type": "display_data",
          "data": {
            "text/plain": [
              "<IPython.core.display.HTML object>"
            ],
            "text/html": [
              "<div><iframe src=\"https://22175.gradio.app\" width=\"900\" height=\"500\" allow=\"autoplay; camera; microphone;\" frameborder=\"0\" allowfullscreen></iframe></div>"
            ]
          },
          "metadata": {}
        },
        {
          "output_type": "execute_result",
          "data": {
            "text/plain": [
              "(<gradio.routes.App at 0x7f58b496cf90>,\n",
              " 'http://127.0.0.1:7860/',\n",
              " 'https://22175.gradio.app')"
            ]
          },
          "metadata": {},
          "execution_count": 121
        }
      ]
    },
    {
      "cell_type": "code",
      "source": [
        "def health2(w,h):\n",
        "  bmi=float(w)/(float(h)**2)\n",
        "  if bmi<18:\n",
        "    return '過輕'\n",
        "  elif bmi>24:\n",
        "    return '過重'\n",
        "  else:\n",
        "    return '健康'"
      ],
      "metadata": {
        "id": "Ef44tUL5CyaS"
      },
      "execution_count": 123,
      "outputs": []
    },
    {
      "cell_type": "code",
      "source": [
        "gradio.Interface(health2,[\"text\",\"text\"],\"text\",title= \"判斷體位狀況\").launch(share=True)\n",
        "#執行函數, input的資料有幾個by list,return的資訊, title為app名稱"
      ],
      "metadata": {
        "colab": {
          "base_uri": "https://localhost:8080/",
          "height": 663
        },
        "id": "Ol1t10PVCP6p",
        "outputId": "2c7a8900-a52a-40a7-d226-1973d9ed0f18"
      },
      "execution_count": 125,
      "outputs": [
        {
          "output_type": "stream",
          "name": "stdout",
          "text": [
            "Colab notebook detected. To show errors in colab notebook, set `debug=True` in `launch()`\n",
            "Running on public URL: https://15614.gradio.app\n",
            "\n",
            "This share link expires in 72 hours. For free permanent hosting, check out Spaces (https://huggingface.co/spaces)\n"
          ]
        },
        {
          "output_type": "display_data",
          "data": {
            "text/plain": [
              "<IPython.core.display.HTML object>"
            ],
            "text/html": [
              "<div><iframe src=\"https://15614.gradio.app\" width=\"900\" height=\"500\" allow=\"autoplay; camera; microphone;\" frameborder=\"0\" allowfullscreen></iframe></div>"
            ]
          },
          "metadata": {}
        },
        {
          "output_type": "execute_result",
          "data": {
            "text/plain": [
              "(<gradio.routes.App at 0x7f58b1f67dd0>,\n",
              " 'http://127.0.0.1:7862/',\n",
              " 'https://15614.gradio.app')"
            ]
          },
          "metadata": {},
          "execution_count": 125
        }
      ]
    },
    {
      "cell_type": "code",
      "source": [
        "def health3(w,h):\n",
        "  bmi=w/(h**2)\n",
        "  if bmi<18:\n",
        "    return bmi,'過輕'\n",
        "  elif bmi>24:\n",
        "    return bmi,'過重'\n",
        "  else:\n",
        "    return bmi,'健康'"
      ],
      "metadata": {
        "id": "OZIj6cWRGY64"
      },
      "execution_count": 143,
      "outputs": []
    },
    {
      "cell_type": "code",
      "source": [
        "health3(80,1.8)"
      ],
      "metadata": {
        "colab": {
          "base_uri": "https://localhost:8080/"
        },
        "id": "7NTG_7PYG0lw",
        "outputId": "3b94fc7c-1382-4e63-d47e-35a57db8237d"
      },
      "execution_count": 144,
      "outputs": [
        {
          "output_type": "execute_result",
          "data": {
            "text/plain": [
              "(24.691358024691358, '過重')"
            ]
          },
          "metadata": {},
          "execution_count": 144
        }
      ]
    },
    {
      "cell_type": "code",
      "source": [
        "gradio.Interface(health3,[\"text\",\"text\"],[\"text\",\"text\"],title= \"判斷體位狀況\").launch(share=True)"
      ],
      "metadata": {
        "colab": {
          "base_uri": "https://localhost:8080/",
          "height": 663
        },
        "id": "UJlImqXgGj4h",
        "outputId": "43a53a2b-35dc-4589-a04c-902294c7f3c3"
      },
      "execution_count": 135,
      "outputs": [
        {
          "output_type": "stream",
          "name": "stdout",
          "text": [
            "Colab notebook detected. To show errors in colab notebook, set `debug=True` in `launch()`\n",
            "Running on public URL: https://43756.gradio.app\n",
            "\n",
            "This share link expires in 72 hours. For free permanent hosting, check out Spaces (https://huggingface.co/spaces)\n"
          ]
        },
        {
          "output_type": "display_data",
          "data": {
            "text/plain": [
              "<IPython.core.display.HTML object>"
            ],
            "text/html": [
              "<div><iframe src=\"https://43756.gradio.app\" width=\"900\" height=\"500\" allow=\"autoplay; camera; microphone;\" frameborder=\"0\" allowfullscreen></iframe></div>"
            ]
          },
          "metadata": {}
        },
        {
          "output_type": "execute_result",
          "data": {
            "text/plain": [
              "(<gradio.routes.App at 0x7f58abd4bed0>,\n",
              " 'http://127.0.0.1:7865/',\n",
              " 'https://43756.gradio.app')"
            ]
          },
          "metadata": {},
          "execution_count": 135
        }
      ]
    }
  ]
}